{
 "cells": [
  {
   "cell_type": "markdown",
   "metadata": {},
   "source": [
    "# Use Cases"
   ]
  },
  {
   "cell_type": "markdown",
   "metadata": {},
   "source": [
    "##Spielerkonto erstellen"
   ]
  },
  {
   "cell_type": "markdown",
   "metadata": {},
   "source": [
    "| **Geschäftsprozess**              | **Spielerkonto erstellen**                                                                                                    |\n",
    "|-----------------------------------|--------------------------------------------------------------------------------------------------------------------------------|\n",
    "| **Ziel, Ergebnisse**              | Ein Spielerkonto                                                                                                               |\n",
    "| **Akteure**                       | Spieler                                                                                                                        |\n",
    "| **Vorbedingung**                  | Kein existierendes Benutzerkonto für die angegebene E-Mail-Adresse                                                             |\n",
    "| **Auslösendes Ereignis**          | -                                                                                                                              |\n",
    "| **Nachbedingung bei Erfolg**      | Ein Benutzerkonto                                                                                                              |\n",
    "| **Nachbedingung bei Fehlschlag**  | Kein Benutzerkonto                                                                                                             |\n",
    "| **Eingehende Daten**              | E-Mail-Adressen, Geburtsdatum, Name                                                                                            |\n",
    "| **Ausgehende Daten**              | Benutzername                                                                                                                   |\n",
    "| **Ablauf**                        | 1.) Spieler gibt eingehende Daten ein <br>2.) Überprüfen, ob E-Mail-Adresse noch keinen Account hat <br>3.) Spieler wählt Benutzername <br>4.) Überprüfung, ob Benutzername schon existiert <br>5.) Spieler legt Passwort fest<br>6.) System verschickt Aktivierungs-E-Mail<br>7.) Spieler akzeptiert E-Mail |\n",
    "| **Erweiterungen**                 | 2a.) E-Mail hat schon anderen Account, weiter mit 1.)<br>4a.) Benutzername existiert schon, weiter mit 3.)                    |\n",
    "| **Alternativen**                  | 6a.) Benutzer akzeptiert E-Mail nicht, Benutzerkonto wird nicht aktiviert                                                     |\n",
    "\n"
   ]
  },
  {
   "cell_type": "markdown",
   "metadata": {},
   "source": [
    "## Einloggen"
   ]
  },
  {
   "cell_type": "markdown",
   "metadata": {},
   "source": [
    "| **Geschäftsprozess**              | **In Spielerkonto einloggen**                                                                                                    |\n",
    "|-----------------------------------|------------------------------------------------------------------------------------------------------------------------------------|\n",
    "| **Ziel, Ergebnisse**              | Ein angemeldeter Spieler, der online ist                                                                                          |\n",
    "| **Akteure**                       | Benutzer                                                                                                                          |\n",
    "| **Vorbedingung**                  | Existierendes und aktives Spielerkonto                                                                                            |\n",
    "| **Auslösendes Ereignis**          | Anmeldung                                                                                                                         |\n",
    "| **Nachbedingung bei Erfolg**      | Angemeldeter Spieler, der mitspielen kann                                                                                        |\n",
    "| **Nachbedingung bei Fehlschlag**  | Nicht eingeloggtes Konto, das nicht mitspielen kann                                                                              |\n",
    "| **Eingehende Daten**              | Benutzername/E-Mail und Passwort                                                                                                  |\n",
    "| **Ausgehende Daten**              | -                                                                                                                                |\n",
    "| **Ablauf**                        | 1.) Spieler öffnet Website<br>2.) Spieler gibt E-Mail-Adresse/Benutzernamen und Passwort ein<br>3.) System überprüft Anmeldung<br>4.) Spieler ist angemeldet und wird auf Dashboard weitergeleitet |\n",
    "| **Erweiterungen**                 | 3a.) Fehlschlagen des Logins, weiter zu 2.)                                                                                       |\n",
    "| **Alternativen**                  | - Wenn Spieler Passwort oder Nutzername vergessen hat, soll ihm eine E-Mail geschickt werden, um das Passwort zu ändern<br>- Konto ist gesperrt oder nicht aktiviert --> Zugang verweigert |\n",
    "                                                                                                                                                       "
   ]
  },
  {
   "cell_type": "markdown",
   "metadata": {},
   "source": [
    "## Spiel starten"
   ]
  },
  {
   "cell_type": "markdown",
   "metadata": {},
   "source": [
    "| **Geschäftsprozess**              | **Neues Spiel starten**                                                                                                        |\n",
    "|-----------------------------------|--------------------------------------------------------------------------------------------------------------------------------|\n",
    "| **Ziel, Ergebnisse**              | Neues Spiel ist bereit zu starten                                                                                              |\n",
    "| **Akteure**                       | Spieler, Admin                                                                                                                |\n",
    "| **Vorbedingung**                  | Spieler sind eingeloggt                                                                                                       |\n",
    "| **Auslösendes Ereignis**          | Admin möchte neues Spiel starten                                                                                              |\n",
    "| **Nachbedingung bei Erfolg**      | Spiel kann gestartet werden                                                                                                   |\n",
    "| **Nachbedingung bei Fehlschlag**  | Spiel kann nicht gestartet werden                                                                                             |\n",
    "| **Eingehende Daten**              | Benutzerkonto Spieler, Geburtsdaten und Admin                                                                                 |\n",
    "| **Ausgehende Daten**              | Spielernamen und ihre Spielfarbe                                                                                              |\n",
    "| **Ablauf**                        | 1. Admin öffnet neue Runde<br>2. Spieler können beitreten<br>3. Spieler wählen Farbe<br>4. System prüft, ob Farbe bereits vergeben ist<br>5. System prüft Spieleranzahl (max. 4)<br>6. Spiel kann gestartet werden |\n",
    "| **Erweiterungen**                 | 3a) Farbe vergeben, weiter mit 3.)<br>5a) Spieleranzahl < 3, weiter mit 2.)                                                   |\n",
    "| **Alternativen**                  | -                                                                                                                              |\n"
   ]
  },
  {
   "cell_type": "markdown",
   "metadata": {},
   "source": [
    "## Ingame Vorbereitung"
   ]
  },
  {
   "cell_type": "markdown",
   "metadata": {},
   "source": [
    "| **Geschäftsprozess**              | **Ingame Vorbereitung**                                                                                                     |\n",
    "|-----------------------------------|-----------------------------------------------------------------------------------------------------------------------------|\n",
    "| **Ziel, Ergebnisse**              | Spielbrett ist erfolgreich vorbereitet                                                                                        |\n",
    "| **Akteure**                       | Spieler                                                                                                                     |\n",
    "| **Vorbedingung**                  | Eine aktive Spielsession                                                                                                    |\n",
    "| **Auslösendes Ereignis**          | Spielsession wurde neu gestartet                                                                                            |\n",
    "| **Nachbedingung bei Erfolg**      | Spiel kann beginnen                                                                                                         |\n",
    "| **Nachbedingung bei Fehlschlag**  | Spielfeld muss nochmal vorbereitet werden                                                                                   |\n",
    "| **Eingehende Daten**              | Spielername und dazugehörige Farbe                                                                                          |\n",
    "| **Ausgehende Daten**              | Anzahl der Rohstoffkarten bei jedem Spieler                                                                                 |\n",
    "| **Ablauf**                        | 1.) System generiert Spielfeld<br>2.) Spieler bestätigen ihre Teilnahme<br>3.) Beginnender Spieler wird festgelegt (ältester zuerst)<br>4.) Spieler bauen jeweils eine Siedlung und Straße nacheinander<br>5.) System verteilt Startressourcen, von den Feldern, der zweit gesetzten Siedlung |\n",
    "| **Erweiterungen**                 | 2a.) Nicht alle Spieler bestätigen die Teilnahme, Anfrage erneut senden, weiter mit 2.)                                      |\n",
    "| **Alternativen**                  | 1a) Spieler wollen Spielfeld manuell festlegen --> Von System erstelltes Spielfeld wird überschrieben, weiter mit 2.)       |\n"
   ]
  },
  {
   "cell_type": "markdown",
   "metadata": {},
   "source": [
    "## Spielzug machen"
   ]
  },
  {
   "cell_type": "markdown",
   "metadata": {},
   "source": [
    "| **Geschäftsprozess**                              | **Spielzug machen**                                                                                                                                                                                  |\n",
    "|---------------------------------------------------|----------------------------------------------------------------------------------------------------------------------------------------------------------------------------------------------------|\n",
    "| **Ziel, Ergebnisse**                              | Durchführung eines kompletten Spielzuges                                                                                                   |\n",
    "| **Akteure**                                       | Spieler, Mitspieler                                                                                |\n",
    "| **Vorbedingung**                                  | - Die Spielsession ist aktiv und die Vorbereitung ist beendet<br>- Spiel wurde gestartet                                                                                                  |\n",
    "| **Auslösendes Ereignis**                          | Spieler ist an der Reihe und würfelt                                                                                                                                                        |\n",
    "| **Nachbedingung bei Erfolg**                      | - Der Zug ist abgeschlossen.<br>- Die aktuellen Siegpunkte werden aktualisiert                                                   |\n",
    "| **Nachbedingung bei Fehlschlag**                  | Der Zug ist unvollständig                                                                                                        |\n",
    "| **Eingehende Daten**                              | - Ergebnis des Würfelwurfs<br>- Spielfeld                                                                                             |\n",
    "| **Ausgehende Daten**                              | - Anzahl der Siegpunkte<br>- aktualisiertes Spielfeld                                                                                                                |\n",
    "| **Ablauf**                                        | 1.) Spieler würfelt und erhält das Ergebnis<br>2.) System überprüft, ob das Würfelergebnis eine 7 ist <br>3.) Wenn das Würfelergebnis keine 7 ist, erhalten die Spieler Rohstoffe, basierend auf dem geworfenen Wert und ihren Siedlungen/Städten auf den entsprechenden Feldern<br>4.) Der Spieler kann mit Mitspielern handeln, solange er möchte<br>5.) Der Spieler kann mit der Bank handeln, indem er passende Rohstoffe abgibt und sich die gewünschten Rohstoffe holt<br>6.) Der Spieler führt Bauaktionen durch, sofern er genügend Rohstoffe hat, indem er Straßen, Siedlungen oder Städte baut<br>7.) Der Spieler kann Entwicklungskarten kaufen und die, aus vorheriger Runde gekauften Karten, im Verlauf seines Zuges ausspielen<br>8.) Wenn der Spieler eine Ritterkarte spielt, versetzt er den Räuber erneut und führt die entsprechenden Schritte durch (ab Punkt 4)<br>9.) Der Zug endet, und das System überprüft die Siegpunkte des Spielers |\n",
    "| **Erweiterungen**                                 | 9a.) Wenn der Spieler nicht genügend Rohstoffe hat, kann er keine Bauaktionen durchführen  |\n",
    "| **Alternativen**                                  | 2a.) - Wenn 7 gewürfelt, müssen alle Spieler mit mehr als 7 Rohstoffkarten die Hälfte ihrer Karten abgeben <br>- Der Spieler versetzt den Räuber und gibt das Feld an, auf das der Räuber gesetzt wird <br>  - Der Spieler stiehlt eine Karte von einem Mitspieler, dessen Siedlung oder Stadt am neuen Feld des Räubers liegt <br>10a.) Wenn der Spieler keine Rohstoffe hat, um eine Entwicklungskarte zu kaufen, wird dieser Schritt übersprungen<br>11a.) Wenn der Spieler keine Ritterkarten hat, kann er keine weiteren Räuber versetzen   |\n"
   ]
  },
  {
   "cell_type": "markdown",
   "metadata": {},
   "source": [
    "## Auswerten"
   ]
  },
  {
   "cell_type": "markdown",
   "metadata": {},
   "source": [
    "| **Geschäftsprozess**         | **Spiel auswerten**                                                                                                                                                         |\n",
    "|------------------------------|----------------------------------------------------------------------------------------------------------------------------------------------------------------------------|\n",
    "| **Ziel, Ergebnisse**         | Gewinner des Spieles ermitteln                                                                                                                                             |\n",
    "| **Akteure**                  | System                                                                                                                                                                     |\n",
    "| **Vorbedingung**             | Ein Zug                                                                                                                                                                    |\n",
    "| **Auslösendes Ereignis**     | Spielzug beendet                                                                                                                |\n",
    "| **Nachbedingung bei Erfolg** | Der Spieler gewinnt                                                                                                                                                        |\n",
    "| **Nachbedingung bei Fehlschlag** | Es gibt noch keinen Gewinner, Spiel wird fortgesetzt                                                                                                              |\n",
    "| **Eingehende Daten**         | Siegpunkte des Spielers, der als letztes gezogen hat                                                                                                                       |\n",
    "| **Ausgehende Daten**         | Spielabschlussnachricht                                                                                                                                                    |\n",
    "| **Ablauf**                   | 1.) System überprüft, ob letzter Spieler 10 Siegpunkte hat<br>2.) Gewinner wird bekannt gegeben<br>3.) Spiel wird beendet<br>4.) Spieler können neue Spielsession starten      |\n",
    "| **Erweiterungen**            | -                                                                                                                                                                          |\n",
    "| **Alternativen**             | 1a.) Spieler hat keine 10 Siegpunkte --> Spiel wird fortgeführt                                  |\n"
   ]
  }
 ],
 "metadata": {
  "language_info": {
   "name": "python"
  }
 },
 "nbformat": 4,
 "nbformat_minor": 2
}
